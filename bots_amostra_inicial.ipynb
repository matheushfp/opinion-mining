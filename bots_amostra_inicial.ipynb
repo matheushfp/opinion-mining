{
 "cells": [
  {
   "cell_type": "code",
   "execution_count": 1,
   "metadata": {},
   "outputs": [],
   "source": [
    "import pandas as pd\n",
    "from matplotlib import pyplot as plt\n",
    "import numpy as np"
   ]
  },
  {
   "cell_type": "code",
   "execution_count": 2,
   "metadata": {},
   "outputs": [],
   "source": [
    "# Abre a amostra inicial e a classificação obtida no botometer\n",
    "df1 = pd.read_csv('amostra_inicial.csv')\n",
    "classificacao = pd.read_csv('resultado1_final.csv')"
   ]
  },
  {
   "cell_type": "code",
   "execution_count": 3,
   "metadata": {},
   "outputs": [],
   "source": [
    "# listas com nomes de usuários dos bots para posterior análise manual\n",
    "above_90 = []\n",
    "above_91 = []\n",
    "above_92 = []\n",
    "above_93 = []\n",
    "above_94 = []\n",
    "above_95 = []\n",
    "\n",
    "for i, username, display_score, cap in classificacao.itertuples():\n",
    "    if cap >= 0.90:\n",
    "        above_90.append(username)\n",
    "    if cap >= 0.91:\n",
    "        above_91.append(username)\n",
    "    if cap >= 0.92:\n",
    "        above_92.append(username)\n",
    "    if cap >= 0.93:\n",
    "        above_93.append(username)\n",
    "    if cap >= 0.94:\n",
    "        above_94.append(username)\n",
    "    if cap >= 0.95:\n",
    "        above_95.append(username)"
   ]
  },
  {
   "cell_type": "code",
   "execution_count": 6,
   "metadata": {},
   "outputs": [
    {
     "name": "stdout",
     "output_type": "stream",
     "text": [
      "Bots considerando CAP 90+ = 36\n",
      "Bots considerando CAP 91+ = 35\n",
      "Bots considerando CAP 92+ = 21\n",
      "Bots considerando CAP 93+ = 15\n",
      "Bots considerando CAP 94+ = 10\n",
      "Bots considerando CAP 95+ = 10\n"
     ]
    }
   ],
   "source": [
    "print(f'Bots considerando CAP 90+ = {len(above_90)}')\n",
    "print(f'Bots considerando CAP 91+ = {len(above_91)}')\n",
    "print(f'Bots considerando CAP 92+ = {len(above_92)}')\n",
    "print(f'Bots considerando CAP 93+ = {len(above_93)}')\n",
    "print(f'Bots considerando CAP 94+ = {len(above_94)}')\n",
    "print(f'Bots considerando CAP 95+ = {len(above_95)}')"
   ]
  }
 ],
 "metadata": {
  "interpreter": {
   "hash": "d305bffd9d3fd2239913748dcf493bfc15195005772fd77ecd3617184515f967"
  },
  "kernelspec": {
   "display_name": "Python 3.8.11 64-bit ('base': conda)",
   "name": "python3"
  },
  "language_info": {
   "codemirror_mode": {
    "name": "ipython",
    "version": 3
   },
   "file_extension": ".py",
   "mimetype": "text/x-python",
   "name": "python",
   "nbconvert_exporter": "python",
   "pygments_lexer": "ipython3",
   "version": "3.8.11"
  },
  "orig_nbformat": 4
 },
 "nbformat": 4,
 "nbformat_minor": 2
}
